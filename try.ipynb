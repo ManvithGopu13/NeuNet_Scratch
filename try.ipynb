{
 "cells": [
  {
   "cell_type": "code",
   "execution_count": 1,
   "id": "f38ec074",
   "metadata": {},
   "outputs": [],
   "source": [
    "import numpy as np\n",
    "import pandas as pd\n",
    "from matplotlib import pyplot as plt\n",
    "\n",
    "data = pd.read_csv('data/train.csv')"
   ]
  },
  {
   "cell_type": "code",
   "execution_count": 2,
   "id": "0052e9b0",
   "metadata": {},
   "outputs": [
    {
     "data": {
      "text/html": [
       "<div>\n",
       "<style scoped>\n",
       "    .dataframe tbody tr th:only-of-type {\n",
       "        vertical-align: middle;\n",
       "    }\n",
       "\n",
       "    .dataframe tbody tr th {\n",
       "        vertical-align: top;\n",
       "    }\n",
       "\n",
       "    .dataframe thead th {\n",
       "        text-align: right;\n",
       "    }\n",
       "</style>\n",
       "<table border=\"1\" class=\"dataframe\">\n",
       "  <thead>\n",
       "    <tr style=\"text-align: right;\">\n",
       "      <th></th>\n",
       "      <th>label</th>\n",
       "      <th>pixel0</th>\n",
       "      <th>pixel1</th>\n",
       "      <th>pixel2</th>\n",
       "      <th>pixel3</th>\n",
       "      <th>pixel4</th>\n",
       "      <th>pixel5</th>\n",
       "      <th>pixel6</th>\n",
       "      <th>pixel7</th>\n",
       "      <th>pixel8</th>\n",
       "      <th>...</th>\n",
       "      <th>pixel774</th>\n",
       "      <th>pixel775</th>\n",
       "      <th>pixel776</th>\n",
       "      <th>pixel777</th>\n",
       "      <th>pixel778</th>\n",
       "      <th>pixel779</th>\n",
       "      <th>pixel780</th>\n",
       "      <th>pixel781</th>\n",
       "      <th>pixel782</th>\n",
       "      <th>pixel783</th>\n",
       "    </tr>\n",
       "  </thead>\n",
       "  <tbody>\n",
       "    <tr>\n",
       "      <th>0</th>\n",
       "      <td>1</td>\n",
       "      <td>0</td>\n",
       "      <td>0</td>\n",
       "      <td>0</td>\n",
       "      <td>0</td>\n",
       "      <td>0</td>\n",
       "      <td>0</td>\n",
       "      <td>0</td>\n",
       "      <td>0</td>\n",
       "      <td>0</td>\n",
       "      <td>...</td>\n",
       "      <td>0</td>\n",
       "      <td>0</td>\n",
       "      <td>0</td>\n",
       "      <td>0</td>\n",
       "      <td>0</td>\n",
       "      <td>0</td>\n",
       "      <td>0</td>\n",
       "      <td>0</td>\n",
       "      <td>0</td>\n",
       "      <td>0</td>\n",
       "    </tr>\n",
       "    <tr>\n",
       "      <th>1</th>\n",
       "      <td>0</td>\n",
       "      <td>0</td>\n",
       "      <td>0</td>\n",
       "      <td>0</td>\n",
       "      <td>0</td>\n",
       "      <td>0</td>\n",
       "      <td>0</td>\n",
       "      <td>0</td>\n",
       "      <td>0</td>\n",
       "      <td>0</td>\n",
       "      <td>...</td>\n",
       "      <td>0</td>\n",
       "      <td>0</td>\n",
       "      <td>0</td>\n",
       "      <td>0</td>\n",
       "      <td>0</td>\n",
       "      <td>0</td>\n",
       "      <td>0</td>\n",
       "      <td>0</td>\n",
       "      <td>0</td>\n",
       "      <td>0</td>\n",
       "    </tr>\n",
       "    <tr>\n",
       "      <th>2</th>\n",
       "      <td>1</td>\n",
       "      <td>0</td>\n",
       "      <td>0</td>\n",
       "      <td>0</td>\n",
       "      <td>0</td>\n",
       "      <td>0</td>\n",
       "      <td>0</td>\n",
       "      <td>0</td>\n",
       "      <td>0</td>\n",
       "      <td>0</td>\n",
       "      <td>...</td>\n",
       "      <td>0</td>\n",
       "      <td>0</td>\n",
       "      <td>0</td>\n",
       "      <td>0</td>\n",
       "      <td>0</td>\n",
       "      <td>0</td>\n",
       "      <td>0</td>\n",
       "      <td>0</td>\n",
       "      <td>0</td>\n",
       "      <td>0</td>\n",
       "    </tr>\n",
       "    <tr>\n",
       "      <th>3</th>\n",
       "      <td>4</td>\n",
       "      <td>0</td>\n",
       "      <td>0</td>\n",
       "      <td>0</td>\n",
       "      <td>0</td>\n",
       "      <td>0</td>\n",
       "      <td>0</td>\n",
       "      <td>0</td>\n",
       "      <td>0</td>\n",
       "      <td>0</td>\n",
       "      <td>...</td>\n",
       "      <td>0</td>\n",
       "      <td>0</td>\n",
       "      <td>0</td>\n",
       "      <td>0</td>\n",
       "      <td>0</td>\n",
       "      <td>0</td>\n",
       "      <td>0</td>\n",
       "      <td>0</td>\n",
       "      <td>0</td>\n",
       "      <td>0</td>\n",
       "    </tr>\n",
       "    <tr>\n",
       "      <th>4</th>\n",
       "      <td>0</td>\n",
       "      <td>0</td>\n",
       "      <td>0</td>\n",
       "      <td>0</td>\n",
       "      <td>0</td>\n",
       "      <td>0</td>\n",
       "      <td>0</td>\n",
       "      <td>0</td>\n",
       "      <td>0</td>\n",
       "      <td>0</td>\n",
       "      <td>...</td>\n",
       "      <td>0</td>\n",
       "      <td>0</td>\n",
       "      <td>0</td>\n",
       "      <td>0</td>\n",
       "      <td>0</td>\n",
       "      <td>0</td>\n",
       "      <td>0</td>\n",
       "      <td>0</td>\n",
       "      <td>0</td>\n",
       "      <td>0</td>\n",
       "    </tr>\n",
       "  </tbody>\n",
       "</table>\n",
       "<p>5 rows × 785 columns</p>\n",
       "</div>"
      ],
      "text/plain": [
       "   label  pixel0  pixel1  pixel2  pixel3  pixel4  pixel5  pixel6  pixel7  \\\n",
       "0      1       0       0       0       0       0       0       0       0   \n",
       "1      0       0       0       0       0       0       0       0       0   \n",
       "2      1       0       0       0       0       0       0       0       0   \n",
       "3      4       0       0       0       0       0       0       0       0   \n",
       "4      0       0       0       0       0       0       0       0       0   \n",
       "\n",
       "   pixel8  ...  pixel774  pixel775  pixel776  pixel777  pixel778  pixel779  \\\n",
       "0       0  ...         0         0         0         0         0         0   \n",
       "1       0  ...         0         0         0         0         0         0   \n",
       "2       0  ...         0         0         0         0         0         0   \n",
       "3       0  ...         0         0         0         0         0         0   \n",
       "4       0  ...         0         0         0         0         0         0   \n",
       "\n",
       "   pixel780  pixel781  pixel782  pixel783  \n",
       "0         0         0         0         0  \n",
       "1         0         0         0         0  \n",
       "2         0         0         0         0  \n",
       "3         0         0         0         0  \n",
       "4         0         0         0         0  \n",
       "\n",
       "[5 rows x 785 columns]"
      ]
     },
     "execution_count": 2,
     "metadata": {},
     "output_type": "execute_result"
    }
   ],
   "source": [
    "data.head()"
   ]
  },
  {
   "cell_type": "code",
   "execution_count": 3,
   "id": "8c6c06b8",
   "metadata": {},
   "outputs": [
    {
     "data": {
      "text/plain": [
       "array([[1, 0, 0, ..., 0, 0, 0],\n",
       "       [0, 0, 0, ..., 0, 0, 0],\n",
       "       [1, 0, 0, ..., 0, 0, 0],\n",
       "       ...,\n",
       "       [7, 0, 0, ..., 0, 0, 0],\n",
       "       [6, 0, 0, ..., 0, 0, 0],\n",
       "       [9, 0, 0, ..., 0, 0, 0]])"
      ]
     },
     "execution_count": 3,
     "metadata": {},
     "output_type": "execute_result"
    }
   ],
   "source": [
    "data = np.array(data)\n",
    "\n",
    "data"
   ]
  },
  {
   "cell_type": "code",
   "execution_count": 4,
   "id": "22a5a6a5",
   "metadata": {},
   "outputs": [
    {
     "name": "stdout",
     "output_type": "stream",
     "text": [
      "42000 785\n"
     ]
    }
   ],
   "source": [
    "m, n = data.shape\n",
    "\n",
    "print(m, n)\n"
   ]
  },
  {
   "cell_type": "code",
   "execution_count": 5,
   "id": "2d3056a2",
   "metadata": {},
   "outputs": [
    {
     "data": {
      "text/plain": [
       "array([[1, 0, 0, ..., 0, 0, 0],\n",
       "       [3, 0, 0, ..., 0, 0, 0],\n",
       "       [1, 0, 0, ..., 0, 0, 0],\n",
       "       ...,\n",
       "       [0, 0, 0, ..., 0, 0, 0],\n",
       "       [6, 0, 0, ..., 0, 0, 0],\n",
       "       [5, 0, 0, ..., 0, 0, 0]])"
      ]
     },
     "execution_count": 5,
     "metadata": {},
     "output_type": "execute_result"
    }
   ],
   "source": [
    "np.random.shuffle(data)\n",
    "\n",
    "data"
   ]
  },
  {
   "cell_type": "code",
   "execution_count": 6,
   "id": "b997dfc9",
   "metadata": {},
   "outputs": [
    {
     "data": {
      "text/plain": [
       "41000"
      ]
     },
     "execution_count": 6,
     "metadata": {},
     "output_type": "execute_result"
    }
   ],
   "source": [
    "data_dev = data[0:1000].T \n",
    "# data_dev.shape\n",
    "Y_dev = data_dev[0]\n",
    "X_dev = data_dev[1:n]\n",
    "X_dev = X_dev/255\n",
    "\n",
    "data_train = data[1000:m].T \n",
    "Y_train = data_train[0]\n",
    "X_train = data_train[1:n]\n",
    "X_train = X_train/255\n",
    "\n",
    "n_train, m_train = X_train.shape\n",
    "\n",
    "m_train\n"
   ]
  },
  {
   "cell_type": "code",
   "execution_count": 7,
   "id": "99511c5b",
   "metadata": {},
   "outputs": [
    {
     "data": {
      "text/plain": [
       "array([7, 6, 2, ..., 0, 6, 5])"
      ]
     },
     "execution_count": 7,
     "metadata": {},
     "output_type": "execute_result"
    }
   ],
   "source": [
    "Y_train"
   ]
  },
  {
   "cell_type": "code",
   "execution_count": 8,
   "id": "0e2a15fa",
   "metadata": {},
   "outputs": [],
   "source": [
    "def init_params():\n",
    "    W1 = np.random.rand(10, 784) - 0.5\n",
    "    b1 = np.random.rand(10, 1) - 0.5\n",
    "    W2 = np.random.rand(10, 10) - 0.5\n",
    "    b2 = np.random.rand(10, 1) - 0.5\n",
    "    return W1, b1, W2, b2\n",
    "\n",
    "def ReLU(Z):\n",
    "    return np.maximum(0, Z)\n",
    "\n",
    "def softmax(Z):\n",
    "    A = np.exp(Z) / sum(np.exp(Z))\n",
    "    return A\n",
    "\n",
    "def forward_prop(W1, b1, W2, b2, X):\n",
    "    Z1 = W1.dot(X) + b1\n",
    "    A1 = ReLU(Z1)\n",
    "    Z2 = W2.dot(A1) + b2\n",
    "    A2 = softmax(Z2)\n",
    "    return Z1, A1, Z2, A2\n",
    "\n",
    "def ReLU_der(Z):\n",
    "    return Z > 0\n",
    "\n",
    "def one_hot(Y):\n",
    "    one_hot_Y = np.zeros((Y.size, Y.max() + 1))\n",
    "    one_hot_Y[np.arange(Y.size), Y] = 1\n",
    "    one_hot_Y = one_hot_Y.T \n",
    "    return one_hot_Y\n",
    "\n",
    "def backward_prop(Z1, A1, Z2, A2, W1, W2, X, Y):\n",
    "    one_hot_Y = one_hot(Y)\n",
    "    dZ2 = A2 - one_hot_Y\n",
    "    dW2 = 1 / m * dZ2.dot(A1.T)\n",
    "    db2 = 1 / m * np.sum(dZ2)\n",
    "    dZ1 = W2.T.dot(dZ2) * ReLU_der(Z1)\n",
    "    dW1 = 1 / m * dZ1.dot(X.T)\n",
    "    db1 = 1 / m * np.sum(dZ1)\n",
    "    return dW1, db1, dW2, db2\n",
    "\n",
    "def update_params(W1, b1, W2, b2, dW1, db1, dW2, db2, alpha):\n",
    "    W1 = W1 - alpha * dW1\n",
    "    b1 = b1 - alpha * db1\n",
    "    W2 = W2 - alpha * dW2\n",
    "    b2 = b2 - alpha * db2\n",
    "    return W1, b1, W2, b2\n"
   ]
  },
  {
   "cell_type": "code",
   "execution_count": 9,
   "id": "c57043d1",
   "metadata": {},
   "outputs": [],
   "source": [
    "def get_predictions(A2):\n",
    "    return np.argmax(A2, 0)\n",
    "\n",
    "def get_accuracy(predictions, Y):\n",
    "    print(predictions, Y)\n",
    "    return np.sum(predictions == Y) / Y.size\n",
    "\n",
    "def gradient_descent(X, Y, alpha, iterations):\n",
    "    W1, b1, W2, b2 = init_params()\n",
    "    for i in range(iterations):\n",
    "        Z1, A1, Z2, A2 = forward_prop(W1, b1, W2, b2, X)\n",
    "        dW1, db1, dW2, db2 = backward_prop(Z1, A1, Z2, A2, W1, W2, X, Y)\n",
    "        W1, b1, W2, b2 = update_params(W1, b1, W2, b2, dW1, db1, dW2, db2, alpha)\n",
    "        if i % 10 == 0:\n",
    "            print(\"Iteration: \", i)\n",
    "            predictions = get_predictions(A2)\n",
    "            print(get_accuracy(predictions=predictions, Y=Y))\n",
    "        \n",
    "    return W1, b1, W2, b2 "
   ]
  },
  {
   "cell_type": "code",
   "execution_count": 10,
   "id": "1f3985ce",
   "metadata": {},
   "outputs": [
    {
     "name": "stdout",
     "output_type": "stream",
     "text": [
      "Iteration:  0\n",
      "[4 8 4 ... 4 4 4] [7 6 2 ... 0 6 5]\n",
      "0.08692682926829268\n",
      "Iteration:  10\n",
      "[3 7 4 ... 0 2 5] [7 6 2 ... 0 6 5]\n",
      "0.19541463414634147\n",
      "Iteration:  20\n",
      "[7 7 4 ... 0 2 5] [7 6 2 ... 0 6 5]\n",
      "0.2799268292682927\n",
      "Iteration:  30\n",
      "[7 7 4 ... 0 2 5] [7 6 2 ... 0 6 5]\n",
      "0.3457073170731707\n",
      "Iteration:  40\n",
      "[7 7 4 ... 0 3 5] [7 6 2 ... 0 6 5]\n",
      "0.3954146341463415\n",
      "Iteration:  50\n",
      "[7 7 4 ... 0 3 5] [7 6 2 ... 0 6 5]\n",
      "0.4404878048780488\n",
      "Iteration:  60\n",
      "[7 7 4 ... 0 3 5] [7 6 2 ... 0 6 5]\n",
      "0.4825121951219512\n",
      "Iteration:  70\n",
      "[7 4 4 ... 0 3 5] [7 6 2 ... 0 6 5]\n",
      "0.5254878048780488\n",
      "Iteration:  80\n",
      "[7 4 4 ... 0 3 5] [7 6 2 ... 0 6 5]\n",
      "0.565390243902439\n",
      "Iteration:  90\n",
      "[7 4 2 ... 0 8 5] [7 6 2 ... 0 6 5]\n",
      "0.6012926829268292\n",
      "Iteration:  100\n",
      "[7 4 2 ... 0 8 5] [7 6 2 ... 0 6 5]\n",
      "0.6340243902439024\n",
      "Iteration:  110\n",
      "[7 4 2 ... 0 8 5] [7 6 2 ... 0 6 5]\n",
      "0.660609756097561\n",
      "Iteration:  120\n",
      "[7 4 2 ... 0 8 5] [7 6 2 ... 0 6 5]\n",
      "0.6818048780487805\n",
      "Iteration:  130\n",
      "[7 4 2 ... 0 8 5] [7 6 2 ... 0 6 5]\n",
      "0.6998780487804878\n",
      "Iteration:  140\n",
      "[7 4 2 ... 0 8 5] [7 6 2 ... 0 6 5]\n",
      "0.7136341463414634\n",
      "Iteration:  150\n",
      "[7 4 2 ... 0 8 5] [7 6 2 ... 0 6 5]\n",
      "0.726780487804878\n",
      "Iteration:  160\n",
      "[7 4 2 ... 0 8 5] [7 6 2 ... 0 6 5]\n",
      "0.7369268292682927\n",
      "Iteration:  170\n",
      "[7 4 2 ... 0 8 5] [7 6 2 ... 0 6 5]\n",
      "0.7471707317073171\n",
      "Iteration:  180\n",
      "[7 4 2 ... 0 8 5] [7 6 2 ... 0 6 5]\n",
      "0.7553170731707317\n",
      "Iteration:  190\n",
      "[7 4 2 ... 0 8 5] [7 6 2 ... 0 6 5]\n",
      "0.7634878048780488\n",
      "Iteration:  200\n",
      "[7 4 2 ... 0 8 5] [7 6 2 ... 0 6 5]\n",
      "0.7703414634146342\n",
      "Iteration:  210\n",
      "[7 4 2 ... 0 8 5] [7 6 2 ... 0 6 5]\n",
      "0.776219512195122\n",
      "Iteration:  220\n",
      "[7 4 2 ... 0 8 5] [7 6 2 ... 0 6 5]\n",
      "0.782\n",
      "Iteration:  230\n",
      "[7 4 2 ... 0 8 5] [7 6 2 ... 0 6 5]\n",
      "0.7861219512195122\n",
      "Iteration:  240\n",
      "[7 4 2 ... 0 8 5] [7 6 2 ... 0 6 5]\n",
      "0.7912439024390244\n",
      "Iteration:  250\n",
      "[7 4 2 ... 0 8 5] [7 6 2 ... 0 6 5]\n",
      "0.7956341463414635\n",
      "Iteration:  260\n",
      "[7 4 2 ... 0 8 5] [7 6 2 ... 0 6 5]\n",
      "0.8000975609756098\n",
      "Iteration:  270\n",
      "[7 4 2 ... 0 8 5] [7 6 2 ... 0 6 5]\n",
      "0.8037073170731708\n",
      "Iteration:  280\n",
      "[7 4 2 ... 0 8 5] [7 6 2 ... 0 6 5]\n",
      "0.8069756097560976\n",
      "Iteration:  290\n",
      "[7 4 2 ... 0 8 5] [7 6 2 ... 0 6 5]\n",
      "0.8103658536585366\n",
      "Iteration:  300\n",
      "[7 4 2 ... 0 8 5] [7 6 2 ... 0 6 5]\n",
      "0.8133170731707317\n",
      "Iteration:  310\n",
      "[7 4 2 ... 0 8 5] [7 6 2 ... 0 6 5]\n",
      "0.8163414634146341\n",
      "Iteration:  320\n",
      "[7 4 2 ... 0 2 5] [7 6 2 ... 0 6 5]\n",
      "0.8188048780487804\n",
      "Iteration:  330\n",
      "[7 4 2 ... 0 2 5] [7 6 2 ... 0 6 5]\n",
      "0.8210243902439024\n",
      "Iteration:  340\n",
      "[7 4 2 ... 0 2 5] [7 6 2 ... 0 6 5]\n",
      "0.8234634146341463\n",
      "Iteration:  350\n",
      "[7 4 2 ... 0 2 5] [7 6 2 ... 0 6 5]\n",
      "0.826170731707317\n",
      "Iteration:  360\n",
      "[7 4 2 ... 0 2 5] [7 6 2 ... 0 6 5]\n",
      "0.8286829268292683\n",
      "Iteration:  370\n",
      "[7 4 2 ... 0 2 5] [7 6 2 ... 0 6 5]\n",
      "0.8311951219512195\n",
      "Iteration:  380\n",
      "[7 4 2 ... 0 2 5] [7 6 2 ... 0 6 5]\n",
      "0.8327317073170731\n",
      "Iteration:  390\n",
      "[7 4 2 ... 0 2 5] [7 6 2 ... 0 6 5]\n",
      "0.8345853658536585\n",
      "Iteration:  400\n",
      "[7 4 2 ... 0 2 5] [7 6 2 ... 0 6 5]\n",
      "0.836780487804878\n",
      "Iteration:  410\n",
      "[7 4 2 ... 0 2 5] [7 6 2 ... 0 6 5]\n",
      "0.8386341463414634\n",
      "Iteration:  420\n",
      "[7 4 2 ... 0 2 5] [7 6 2 ... 0 6 5]\n",
      "0.8403170731707317\n",
      "Iteration:  430\n",
      "[7 4 2 ... 0 2 5] [7 6 2 ... 0 6 5]\n",
      "0.8420487804878048\n",
      "Iteration:  440\n",
      "[7 4 2 ... 0 2 5] [7 6 2 ... 0 6 5]\n",
      "0.8436829268292683\n",
      "Iteration:  450\n",
      "[7 6 2 ... 0 2 5] [7 6 2 ... 0 6 5]\n",
      "0.8450487804878049\n",
      "Iteration:  460\n",
      "[7 6 2 ... 0 2 5] [7 6 2 ... 0 6 5]\n",
      "0.8466829268292683\n",
      "Iteration:  470\n",
      "[7 6 2 ... 0 2 5] [7 6 2 ... 0 6 5]\n",
      "0.8481463414634146\n",
      "Iteration:  480\n",
      "[7 6 2 ... 0 2 5] [7 6 2 ... 0 6 5]\n",
      "0.8492195121951219\n",
      "Iteration:  490\n",
      "[7 6 2 ... 0 2 5] [7 6 2 ... 0 6 5]\n",
      "0.8503414634146341\n"
     ]
    }
   ],
   "source": [
    "W1, b1, W2, b2 = gradient_descent(X_train, Y_train, 0.10, 500)"
   ]
  },
  {
   "cell_type": "code",
   "execution_count": 11,
   "id": "45993f70",
   "metadata": {},
   "outputs": [],
   "source": [
    "def make_predictions(X, W1, b1,W2, b2):\n",
    "    _, _, _, A2 = forward_prop(W1, b1, W2, b2, X)\n",
    "    predictions = get_predictions(A2)\n",
    "    return predictions\n",
    "\n",
    "def test_prediction(index, W1, b1, W2, b2):\n",
    "    current_image = X_train[:, index, None]\n",
    "    prediction = make_predictions(X_train[:, index, None], W1, b1, W2, b2)\n",
    "    label = Y_train[index]\n",
    "    print(\"Prediction: \", prediction)\n",
    "    print(\"Label: \", label)\n",
    "\n",
    "    current_image = current_image.reshape((28, 28)) * 255\n",
    "    plt.gray()\n",
    "    plt.imshow(current_image, interpolation='nearest')\n",
    "    plt.show()"
   ]
  },
  {
   "cell_type": "code",
   "execution_count": 12,
   "id": "01c96d2e",
   "metadata": {},
   "outputs": [
    {
     "name": "stdout",
     "output_type": "stream",
     "text": [
      "Prediction:  [7]\n",
      "Label:  7\n"
     ]
    },
    {
     "data": {
      "image/png": "[encoded data removed]",
      "text/plain": [
       "<Figure size 640x480 with 1 Axes>"
      ]
     },
     "metadata": {},
     "output_type": "display_data"
    },
    {
     "name": "stdout",
     "output_type": "stream",
     "text": [
      "Prediction:  [6]\n",
      "Label:  6\n"
     ]
    },
    {
     "data": {
      "image/png": "[encoded data removed]",
      "text/plain": [
       "<Figure size 640x480 with 1 Axes>"
      ]
     },
     "metadata": {},
     "output_type": "display_data"
    },
    {
     "name": "stdout",
     "output_type": "stream",
     "text": [
      "Prediction:  [2]\n",
      "Label:  2\n"
     ]
    },
    {
     "data": {
      "image/png": "[encoded data removed]",
      "text/plain": [
       "<Figure size 640x480 with 1 Axes>"
      ]
     },
     "metadata": {},
     "output_type": "display_data"
    },
    {
     "name": "stdout",
     "output_type": "stream",
     "text": [
      "Prediction:  [9]\n",
      "Label:  9\n"
     ]
    },
    {
     "data": {
      "image/png": "[encoded data removed]",
      "text/plain": [
       "<Figure size 640x480 with 1 Axes>"
      ]
     },
     "metadata": {},
     "output_type": "display_data"
    }
   ],
   "source": [
    "test_prediction(0, W1, b1, W2, b2)\n",
    "test_prediction(1, W1, b1, W2, b2)\n",
    "test_prediction(2, W1, b1, W2, b2)\n",
    "test_prediction(3, W1, b1, W2, b2)"
   ]
  },
  {
   "cell_type": "code",
   "execution_count": 16,
   "id": "5df4d0ea",
   "metadata": {},
   "outputs": [
    {
     "name": "stdout",
     "output_type": "stream",
     "text": [
      "W1: [[ 0.24438056 -0.45829105 -0.41887543 ... -0.30708255 -0.21485887\n",
      "  -0.04650511]\n",
      " [ 0.01502864 -0.33692616  0.35049571 ... -0.23995275 -0.46351021\n",
      "  -0.17991985]\n",
      " [-0.42528415  0.39398949  0.00546912 ... -0.46453981  0.436994\n",
      "  -0.41725853]\n",
      " ...\n",
      " [-0.06508653 -0.08825828 -0.28475743 ... -0.16883999  0.036763\n",
      "  -0.30210824]\n",
      " [ 0.16638078  0.10738245 -0.06673967 ... -0.40602156 -0.06241324\n",
      "   0.18121697]\n",
      " [ 0.2187438   0.46845504  0.22408646 ...  0.0295018  -0.03499114\n",
      "   0.37491509]],\n",
      "\n",
      " b1: [[0.3823175 ]\n",
      " [0.28637041]\n",
      " [0.0422184 ]\n",
      " [0.07851285]\n",
      " [0.35304018]\n",
      " [0.32639171]\n",
      " [0.50403869]\n",
      " [0.56437871]\n",
      " [0.61059709]\n",
      " [0.9131267 ]],\n",
      "\n",
      " W2: [[ 0.57823152  0.03456481  0.32884775 -0.59832219  0.43809002  0.05135952\n",
      "  -0.64438113  0.73983087 -0.37329284  0.19035437]\n",
      " [-0.17638615  0.08483802  0.09458802 -0.35824498  0.37395589 -0.21144105\n",
      "   0.95894688 -0.35228894 -0.61915201 -0.30546299]\n",
      " [-0.26233324  0.7165065   0.33003203  0.16383178  0.1021833  -0.01129589\n",
      "  -0.19749251  0.5964896  -0.53908122 -0.18460888]\n",
      " [-0.4629232   0.16896605  0.63170405 -0.29372551 -0.40812465 -0.11409448\n",
      "  -0.03616686  0.11790736  0.43532957 -0.23773633]\n",
      " [-0.32856121 -0.36202062 -0.80894467  0.49956717 -0.46580963  0.25365974\n",
      "  -0.44069051 -0.17858917 -0.05820422  0.62383387]\n",
      " [ 0.14204645  0.19999107  0.38309152 -0.40337719 -0.46565277  0.80094371\n",
      "  -0.48843899 -0.00156632  0.2471615   0.35653727]\n",
      " [-0.21702988  0.68433568 -0.32727562 -0.41224177  0.02698932  0.23010154\n",
      "  -0.18214216  0.22464793 -0.73437413  0.76005835]\n",
      " [ 0.76735703  0.12391678 -0.45284144  0.06074322 -0.36419338  0.24175452\n",
      "   0.35497258  0.40942569  0.36827212 -0.68052971]\n",
      " [-0.30976658 -0.15537729  0.32602406  0.17209477  0.43710107 -0.05005295\n",
      "  -0.06490133  0.08991502 -0.35122751  0.32954766]\n",
      " [ 0.12748171 -0.15743119 -0.60765563  0.16454047 -0.43474698  0.07266116\n",
      "   0.02097449  0.34743433  0.39739556  0.17172018]],\n",
      "\n",
      " b2: [[-0.38853332]\n",
      " [ 0.03691801]\n",
      " [ 0.11335864]\n",
      " [-0.26902938]\n",
      " [ 0.11200879]\n",
      " [-0.38144164]\n",
      " [-0.24549709]\n",
      " [-0.22435987]\n",
      " [ 0.21048796]\n",
      " [-0.31410841]]\n"
     ]
    }
   ],
   "source": [
    "print(f\"W1: {W1},\\n\\n b1: {b1},\\n\\n W2: {W2},\\n\\n b2: {b2}\")"
   ]
  },
  {
   "cell_type": "code",
   "execution_count": 17,
   "id": "98e768f4",
   "metadata": {},
   "outputs": [
    {
     "name": "stdout",
     "output_type": "stream",
     "text": [
      "[1 3 1 4 6 1 4 0 2 4 5 2 3 6 8 0 4 1 9 3 4 5 6 6 9 3 5 6 3 1 5 9 2 5 5 9 3\n",
      " 9 5 4 2 7 9 7 7 3 8 9 1 7 2 3 7 7 3 8 6 1 7 7 9 3 6 4 4 3 0 5 8 2 3 1 8 6\n",
      " 4 7 0 6 4 3 4 1 6 7 9 1 2 0 4 1 6 1 5 3 7 4 7 9 4 4 2 7 2 1 2 5 2 6 2 0 3\n",
      " 1 1 6 8 9 8 1 9 7 7 6 7 9 2 2 3 9 2 9 6 8 8 1 4 6 9 3 8 9 9 5 9 4 3 9 2 6\n",
      " 9 2 9 2 4 1 1 9 9 4 2 6 7 9 9 5 8 3 1 1 7 1 1 5 1 9 6 4 9 1 9 7 7 7 1 5 2\n",
      " 7 3 9 8 3 6 4 4 3 4 1 6 1 8 7 6 0 7 6 9 0 6 9 5 3 9 1 8 4 7 8 3 2 4 0 7 1\n",
      " 8 8 6 0 7 4 7 7 3 3 3 3 6 7 0 3 5 8 2 1 8 6 4 9 9 3 1 9 4 4 4 6 4 6 8 3 5\n",
      " 4 9 5 4 4 5 5 2 4 9 4 8 0 5 4 9 3 3 1 8 5 3 1 8 4 1 9 6 4 4 9 8 3 0 2 8 0\n",
      " 0 3 8 4 0 1 9 8 1 3 4 4 3 8 2 9 3 6 4 0 5 8 1 2 6 4 2 6 1 2 8 6 3 1 8 5 1\n",
      " 8 1 6 2 6 0 5 6 6 2 6 6 4 3 6 1 3 9 0 5 8 5 3 4 1 1 1 9 8 9 2 1 4 5 8 6 1\n",
      " 9 3 6 7 2 0 5 9 2 7 2 3 2 0 8 9 5 5 9 1 0 7 4 4 1 3 9 2 9 5 5 8 9 7 9 8 8\n",
      " 6 9 0 7 5 2 5 1 0 8 4 7 0 7 1 9 1 4 4 4 7 4 9 4 5 7 9 2 8 4 3 3 0 5 3 3 9\n",
      " 1 6 5 5 7 9 5 4 3 1 2 7 3 0 2 9 4 7 2 5 5 2 0 0 9 7 2 6 3 8 6 0 0 9 1 4 3\n",
      " 1 4 6 0 0 3 3 0 5 1 7 4 7 2 7 9 4 1 9 1 9 0 8 5 9 5 6 1 1 2 3 2 2 6 0 1 9\n",
      " 8 6 3 8 0 2 9 6 7 4 0 1 3 3 1 7 5 6 7 8 8 2 0 3 8 1 7 5 4 9 2 5 8 3 1 1 2\n",
      " 2 4 0 4 1 8 4 3 3 5 9 1 3 6 8 1 1 1 7 1 6 8 4 3 8 3 0 4 5 9 5 7 4 4 6 1 7\n",
      " 1 5 2 0 2 2 9 0 2 7 7 2 0 1 4 0 3 2 7 4 2 1 5 7 8 4 1 3 1 3 9 5 0 8 4 7 3\n",
      " 0 5 3 9 2 8 5 2 3 0 1 8 9 7 8 2 9 8 3 0 3 0 8 9 9 5 8 4 4 8 7 4 4 5 0 1 7\n",
      " 3 6 3 9 0 6 7 9 1 3 1 3 0 0 1 0 8 2 9 2 2 3 7 8 8 5 9 7 1 8 6 1 8 4 4 7 1\n",
      " 7 1 0 3 1 9 9 5 7 4 1 0 9 9 8 0 9 2 4 7 6 6 1 8 0 5 5 8 7 5 3 1 9 2 7 0 4\n",
      " 3 8 2 7 8 1 7 1 5 3 9 4 2 8 1 6 8 1 5 8 7 9 4 0 8 0 7 7 3 9 2 7 7 1 5 6 9\n",
      " 9 0 0 5 0 8 4 2 8 2 6 6 4 9 6 2 7 9 4 9 0 2 3 3 2 1 6 9 0 4 1 3 8 5 7 9 4\n",
      " 6 1 6 8 5 1 8 8 1 6 0 8 7 3 4 5 3 3 4 0 4 8 4 8 1 0 5 2 8 3 9 7 6 1 9 4 9\n",
      " 4 8 1 8 5 4 4 0 6 9 7 9 1 9 3 7 4 5 8 0 4 1 6 3 0 3 9 8 4 7 5 1 3 1 5 1 1\n",
      " 6 5 9 9 1 3 8 5 0 6 5 3 4 9 6 4 6 7 9 8 6 5 9 1 9 8 2 4 0 0 9 6 0 3 9 7 2\n",
      " 7 7 8 1 1 4 1 0 9 2 9 5 8 0 9 0 5 6 3 4 6 2 3 2 0 2 7 4 8 2 5 5 1 8 7 7 8\n",
      " 7 0 7 9 0 0 7 2 0 4 8 3 0 7 6 0 7 6 8 8 3 4 2 0 3 8 2 0 1 3 1 0 5 7 5 2 2\n",
      " 3] [1 3 1 4 6 1 4 5 2 4 5 2 3 6 8 0 9 1 9 3 4 5 8 6 7 5 5 6 3 1 5 9 2 5 5 9 3\n",
      " 7 3 4 2 7 9 7 2 3 8 9 1 7 2 1 7 7 3 9 6 1 7 9 9 5 6 4 4 3 0 5 8 2 3 1 8 6\n",
      " 4 7 0 6 4 3 4 1 2 7 9 1 2 0 4 1 6 1 5 3 2 4 3 9 4 9 2 7 2 1 2 5 2 1 2 0 3\n",
      " 1 1 6 3 5 8 1 9 7 7 2 3 4 2 2 3 9 2 9 6 8 8 1 4 6 8 3 5 7 9 5 9 4 3 9 7 6\n",
      " 9 2 9 2 4 1 7 8 9 4 2 2 7 9 7 5 8 3 1 1 7 1 1 5 1 9 6 4 9 1 4 7 7 9 1 5 7\n",
      " 7 3 9 8 3 6 4 4 2 9 8 6 1 8 7 6 0 7 6 9 0 6 7 5 3 9 1 8 4 2 8 3 2 6 5 7 1\n",
      " 8 8 6 0 7 4 7 7 3 3 3 3 6 7 0 3 5 5 2 1 8 6 4 9 9 3 1 9 2 4 2 6 4 6 8 3 5\n",
      " 4 9 5 4 4 5 3 2 4 9 4 8 0 5 4 9 3 3 1 8 5 3 1 3 4 1 4 6 4 4 9 8 3 0 2 8 0\n",
      " 0 9 8 5 0 1 9 6 1 3 8 4 8 8 2 4 3 6 4 0 0 3 1 2 6 4 2 6 1 2 8 6 3 1 3 5 1\n",
      " 8 1 6 2 6 0 5 6 6 2 6 6 4 3 6 1 5 9 0 5 8 5 3 4 1 1 8 9 8 4 2 1 4 5 8 6 1\n",
      " 4 3 8 7 2 0 8 9 2 7 2 3 2 0 7 7 5 5 8 1 0 7 4 4 1 5 8 2 9 5 0 8 9 5 9 8 8\n",
      " 6 9 0 7 8 2 5 1 0 8 4 9 0 7 8 9 1 4 9 4 9 4 9 4 5 7 9 2 8 4 3 3 0 5 5 3 9\n",
      " 1 6 3 5 7 9 5 4 8 1 2 7 8 0 2 9 4 9 6 5 5 2 0 0 4 7 2 6 9 3 6 0 0 9 1 4 3\n",
      " 1 4 6 0 0 3 3 0 5 1 7 9 7 7 7 4 4 1 4 1 9 0 8 5 9 8 6 1 1 2 3 4 2 6 0 1 9\n",
      " 2 8 3 0 0 2 9 6 7 4 0 1 3 3 1 7 5 6 7 8 8 3 6 3 8 1 7 5 9 9 2 5 8 3 1 1 2\n",
      " 2 9 0 4 1 8 4 3 3 5 4 1 3 6 8 1 1 1 7 1 6 8 4 3 8 3 0 4 5 9 5 7 4 4 6 1 7\n",
      " 1 5 2 0 2 2 9 0 5 7 7 2 0 7 8 0 3 2 7 4 2 1 5 7 8 4 1 3 1 3 9 0 0 8 4 7 3\n",
      " 0 3 3 9 2 5 5 2 3 0 1 8 4 7 8 8 9 8 3 0 3 0 8 9 4 6 8 4 4 3 7 4 4 8 0 1 7\n",
      " 8 6 3 7 0 6 7 9 1 3 1 3 0 0 1 0 8 2 9 2 3 3 9 8 0 5 9 3 8 8 6 1 1 4 4 5 1\n",
      " 7 8 0 3 1 7 9 6 7 4 2 0 9 4 8 0 9 2 4 7 1 6 1 8 0 5 5 8 7 5 2 1 9 8 7 0 4\n",
      " 3 8 2 3 8 1 7 1 5 3 9 4 2 5 1 6 3 1 5 8 7 9 4 0 8 0 7 3 3 9 2 7 7 1 8 6 9\n",
      " 9 0 0 3 0 1 4 2 0 3 6 6 4 9 6 2 7 7 4 7 0 2 3 3 2 1 8 9 0 4 1 3 8 5 7 9 4\n",
      " 6 1 6 8 5 1 5 8 1 6 0 8 7 3 4 5 9 3 4 0 4 8 4 8 1 0 5 2 8 3 9 7 6 1 9 4 4\n",
      " 9 0 1 8 5 4 4 0 6 9 7 9 1 9 3 7 4 5 8 0 4 1 6 3 0 3 9 8 4 7 5 1 3 1 5 1 1\n",
      " 6 3 9 9 1 3 8 3 0 6 5 3 4 9 6 4 6 7 9 8 6 5 9 2 9 8 2 4 0 2 9 6 0 3 9 7 8\n",
      " 7 7 8 1 1 4 1 0 4 2 9 5 3 0 9 0 5 6 3 4 6 3 3 2 0 2 7 4 8 3 5 5 2 8 7 9 3\n",
      " 7 0 7 9 0 0 7 2 0 4 8 3 0 7 6 0 7 6 8 8 3 4 2 0 3 4 2 0 1 8 8 0 5 7 5 2 2\n",
      " 3]\n"
     ]
    },
    {
     "data": {
      "text/plain": [
       "0.843"
      ]
     },
     "execution_count": 17,
     "metadata": {},
     "output_type": "execute_result"
    }
   ],
   "source": [
    "dev_predictions = make_predictions(X_dev, W1, b1, W2, b2)\n",
    "get_accuracy(dev_predictions, Y_dev)"
   ]
  },
  {
   "cell_type": "code",
   "execution_count": 18,
   "id": "c890bede",
   "metadata": {},
   "outputs": [],
   "source": [
    "dev_df = pd.DataFrame({\n",
    "    'ImageId' : range(1, len(dev_predictions) + 1),\n",
    "    'Label': dev_predictions\n",
    "})"
   ]
  },
  {
   "cell_type": "code",
   "execution_count": 19,
   "id": "c3ca8ab0",
   "metadata": {},
   "outputs": [
    {
     "name": "stdout",
     "output_type": "stream",
     "text": [
      "CSV file generated successfully.\n"
     ]
    }
   ],
   "source": [
    "dev_df.to_csv('data/dev_predictions.csv', index=False)\n",
    "print(\"CSV file generated successfully.\")"
   ]
  },
  {
   "cell_type": "code",
   "execution_count": 24,
   "id": "bc5a4f2c",
   "metadata": {},
   "outputs": [],
   "source": [
    "test_data = pd.read_csv('data/test.csv')\n",
    "test_data = test_data.T \n"
   ]
  },
  {
   "cell_type": "code",
   "execution_count": 25,
   "id": "f7177f33",
   "metadata": {},
   "outputs": [],
   "source": [
    "test_data = test_data / 255"
   ]
  },
  {
   "cell_type": "code",
   "execution_count": 26,
   "id": "9da73fe4",
   "metadata": {},
   "outputs": [],
   "source": [
    "test_predictions = make_predictions(test_data, W1, b1, W2, b2)\n"
   ]
  },
  {
   "cell_type": "code",
   "execution_count": 27,
   "id": "757f9e03",
   "metadata": {},
   "outputs": [
    {
     "data": {
      "text/plain": [
       "array([2, 0, 9, ..., 3, 9, 2])"
      ]
     },
     "execution_count": 27,
     "metadata": {},
     "output_type": "execute_result"
    }
   ],
   "source": [
    "test_predictions"
   ]
  },
  {
   "cell_type": "code",
   "execution_count": 28,
   "id": "67e76765",
   "metadata": {},
   "outputs": [],
   "source": [
    "test_df = pd.DataFrame({\n",
    "    'ImageId': range(1, len(test_predictions) + 1),\n",
    "    'Label': test_predictions\n",
    "})"
   ]
  },
  {
   "cell_type": "code",
   "execution_count": 29,
   "id": "42532719",
   "metadata": {},
   "outputs": [
    {
     "name": "stdout",
     "output_type": "stream",
     "text": [
      "Test CSV file generated successfully.\n"
     ]
    }
   ],
   "source": [
    "test_df.to_csv('data/test_predictions.csv', index=False)\n",
    "print(\"Test CSV file generated successfully.\")"
   ]
  },
  {
   "cell_type": "code",
   "execution_count": null,
   "id": "3b0dba07",
   "metadata": {},
   "outputs": [],
   "source": []
  }
 ],
 "metadata": {
  "kernelspec": {
   "display_name": "Python 3",
   "language": "python",
   "name": "python3"
  },
  "language_info": {
   "codemirror_mode": {
    "name": "ipython",
    "version": 3
   },
   "file_extension": ".py",
   "mimetype": "text/x-python",
   "name": "python",
   "nbconvert_exporter": "python",
   "pygments_lexer": "ipython3",
   "version": "3.10.2"
  }
 },
 "nbformat": 4,
 "nbformat_minor": 5
}
